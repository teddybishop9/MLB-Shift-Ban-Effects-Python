{
 "cells": [
  {
   "attachments": {},
   "cell_type": "markdown",
   "metadata": {},
   "source": [
    "# Measuring the Effect of the Shift Ban on Luck for Specific Batters"
   ]
  },
  {
   "attachments": {},
   "cell_type": "markdown",
   "metadata": {},
   "source": [
    "## 1. Importing and setting up the data frames ##"
   ]
  },
  {
   "cell_type": "code",
   "execution_count": 1,
   "metadata": {},
   "outputs": [],
   "source": [
    "import pandas as pd\n",
    "\n",
    "df2023 = pd.read_csv(r'C:\\Users\\theod\\OneDrive\\Desktop\\MLB Baseball Analytics 2023\\1 - Shift Effect\\Cleaned Data\\2023_Play_Data_to05-30.csv')\n",
    "df2022 = pd.read_csv(r'C:\\Users\\theod\\OneDrive\\Desktop\\MLB Baseball Analytics 2023\\1 - Shift Effect\\Cleaned Data\\2022_Play_Data_to05-30.csv')\n",
    "\n",
    "#adding a counter column\n",
    "df2023['Counter'] = 1\n",
    "df2022['Counter'] = 1"
   ]
  },
  {
   "attachments": {},
   "cell_type": "markdown",
   "metadata": {},
   "source": [
    "## 2. Grouping both years of hitters and calculating luck scores on ground balls\n",
    "* For ground ball events only\n",
    "* Calculating the differences between years to track 'luckiest' players"
   ]
  },
  {
   "cell_type": "code",
   "execution_count": null,
   "metadata": {},
   "outputs": [],
   "source": [
    "### GROUPING THE 2023 HITTERS AND CALCULATING GROUND BALL LUCK SCORES ###\n",
    "\n",
    "gb_events_23_df = df2023[['player_name','events','estimated_ba_using_speedangle','bb_type','Counter']].query('bb_type == \"ground_ball\"')\n",
    "#grouping by hitter and using agg function to calculate each xBA\n",
    "xBA_byHitter_df = gb_events_23_df.groupby('player_name').agg({'estimated_ba_using_speedangle':'mean',\n",
    "                                                      'Counter':'sum' })\n",
    "#grouping hit events by hitter to count hit totals\n",
    "hitcount_byHitter_df = gb_events_23_df.query('events in [\"single\",\"double\",\"triple\"]').groupby('player_name').size().rename('hit_count')\n",
    "#merging df's to compare xbA and actual BA\n",
    "luckmerged_df = xBA_byHitter_df.merge(hitcount_byHitter_df, how = 'inner', on = 'player_name')\n",
    "luckmerged_df = luckmerged_df.query('Counter >= 15') #setting limit to at least 15 ground balls in play\n",
    "luckmerged_df['gb_actual_BA_23'] = luckmerged_df['hit_count']/luckmerged_df['Counter'] #actual BA column creation\n",
    "luckmerged_df['luck'] = luckmerged_df['gb_actual_BA_23'] - luckmerged_df['estimated_ba_using_speedangle'] #luck column creation\n",
    "gb_luck_23_df = luckmerged_df[['gb_actual_BA_23','estimated_ba_using_speedangle','luck','Counter']] #simplifying columns\n",
    "gb_luck_23_df = gb_luck_23_df.rename(columns= {'estimated_ba_using_speedangle': 'gb_xBA_23', 'luck': 'gb_luck_23', 'Counter': 'gb_count_23'}) #renaming\n",
    "print(gb_luck_23_df.head(5))"
   ]
  },
  {
   "cell_type": "code",
   "execution_count": null,
   "metadata": {},
   "outputs": [],
   "source": [
    "### GROUPING THE 2022 HITTERS AND CALCULATING GROUND BALL LUCK SCORES ###\n",
    "\n",
    "gb_events_22_df = df2022[['player_name','events','estimated_ba_using_speedangle','bb_type','Counter']].query('bb_type == \"ground_ball\"')\n",
    "#grouping by hitter and using agg function to calculate each xBA\n",
    "xBA_byHitter_df = gb_events_22_df.groupby('player_name').agg({'estimated_ba_using_speedangle':'mean',\n",
    "                                                      'Counter':'sum' })\n",
    "#grouping hit events by hitter to count hit totals\n",
    "hitcount_byHitter_df = gb_events_22_df.query('events in [\"single\",\"double\",\"triple\"]').groupby('player_name').size().rename('hit_count')\n",
    "#merging df's to compare xbA and actual BA\n",
    "luckmerged_df = xBA_byHitter_df.merge(hitcount_byHitter_df, how = 'inner', on = 'player_name')\n",
    "luckmerged_df = luckmerged_df.query('Counter >= 15') #setting limit to at least 15 ground balls in play\n",
    "luckmerged_df['gb_actual_BA_22'] = luckmerged_df['hit_count']/luckmerged_df['Counter'] #actual BA column creation\n",
    "luckmerged_df['luck'] = luckmerged_df['gb_actual_BA_22'] - luckmerged_df['estimated_ba_using_speedangle'] #luck column creation\n",
    "gb_luck_22_df = luckmerged_df[['gb_actual_BA_22','estimated_ba_using_speedangle','luck','Counter']] #simplifying columns\n",
    "gb_luck_22_df = gb_luck_22_df.rename(columns= {'estimated_ba_using_speedangle': 'gb_xBA_22', 'luck': 'gb_luck_22', 'Counter': 'gb_count_22'}) #renaming\n",
    "print(gb_luck_22_df.head(5))"
   ]
  },
  {
   "cell_type": "code",
   "execution_count": null,
   "metadata": {},
   "outputs": [],
   "source": [
    "### MERGING BOTH YEARS OF LUCK DATA TO FIND HITTERS WHOSE LUCK HAS INCREASED THE MOST ON GROUND BALLS ###\n",
    "\n",
    "gb_luck_increase_df = gb_luck_23_df.merge(gb_luck_22_df, how= 'inner', on = 'player_name')\n",
    "gb_luck_increase_df['gb_luck_increase'] = gb_luck_increase_df['gb_luck_23'] - gb_luck_increase_df['gb_luck_22']  #creating luck increase column\n",
    "print(gb_luck_increase_df.nlargest(10,'gb_luck_increase'))"
   ]
  },
  {
   "attachments": {},
   "cell_type": "markdown",
   "metadata": {},
   "source": [
    "## 3. Grouping both years of hitters and calculating luck scores on line drives\n",
    "* For line drive events only\n",
    "* Calculating the differences between years to track 'luckiest' players"
   ]
  },
  {
   "cell_type": "code",
   "execution_count": null,
   "metadata": {},
   "outputs": [],
   "source": [
    "### GROUPING THE 2023 HITTERS AND CALCULATING LINE DRIVE LUCK SCORES ###\n",
    "\n",
    "ld_events_23_df = df2023[['player_name','events','estimated_ba_using_speedangle','bb_type','Counter']].query('bb_type == \"line_drive\"')\n",
    "#grouping by hitter and using agg function to calculate each xBA\n",
    "xBA_byHitter_df = ld_events_23_df.groupby('player_name').agg({'estimated_ba_using_speedangle':'mean',\n",
    "                                                      'Counter':'sum' })\n",
    "#grouping hit events by hitter to count hit totals\n",
    "hitcount_byHitter_df = ld_events_23_df.query('events in [\"single\",\"double\",\"triple\",\"home_run\"]').groupby('player_name').size().rename('hit_count')\n",
    "#merging df's to compare xbA and actual BA\n",
    "luckmerged_df = xBA_byHitter_df.merge(hitcount_byHitter_df, how = 'inner', on = 'player_name')\n",
    "luckmerged_df = luckmerged_df.query('Counter >= 15') #setting limit to at least 15 line drives in play\n",
    "luckmerged_df['ld_actual_BA_23'] = luckmerged_df['hit_count']/luckmerged_df['Counter'] #actual BA column creation\n",
    "luckmerged_df['luck'] = luckmerged_df['ld_actual_BA_23'] - luckmerged_df['estimated_ba_using_speedangle'] #luck column creation\n",
    "ld_luck_23_df = luckmerged_df[['ld_actual_BA_23','estimated_ba_using_speedangle','luck','Counter']] #simplifying columns\n",
    "ld_luck_23_df = ld_luck_23_df.rename(columns= {'estimated_ba_using_speedangle': 'ld_xBA_23', 'luck': 'ld_luck_23', 'Counter': 'ld_count_23'}) #renaming\n",
    "print(ld_luck_23_df.head(5))"
   ]
  },
  {
   "cell_type": "code",
   "execution_count": null,
   "metadata": {},
   "outputs": [],
   "source": [
    "### GROUPING THE 2022 HITTERS AND CALCULATING LINE DRIVE LUCK SCORES ###\n",
    "\n",
    "ld_events_22_df = df2022[['player_name','events','estimated_ba_using_speedangle','bb_type','Counter']].query('bb_type == \"line_drive\"')\n",
    "#grouping by hitter and using agg function to calculate each xBA\n",
    "xBA_byHitter_df = ld_events_22_df.groupby('player_name').agg({'estimated_ba_using_speedangle':'mean',\n",
    "                                                      'Counter':'sum' })\n",
    "#grouping hit events by hitter to count hit totals\n",
    "hitcount_byHitter_df = ld_events_22_df.query('events in [\"single\",\"double\",\"triple\",\"home_run\"]').groupby('player_name').size().rename('hit_count')\n",
    "#merging df's to compare xbA and actual BA\n",
    "luckmerged_df = xBA_byHitter_df.merge(hitcount_byHitter_df, how = 'inner', on = 'player_name')\n",
    "luckmerged_df = luckmerged_df.query('Counter >= 15') #setting limit to at least 15 line drives in play\n",
    "luckmerged_df['ld_actual_BA_22'] = luckmerged_df['hit_count']/luckmerged_df['Counter'] #actual BA column creation\n",
    "luckmerged_df['luck'] = luckmerged_df['ld_actual_BA_22'] - luckmerged_df['estimated_ba_using_speedangle'] #luck column creation\n",
    "ld_luck_22_df = luckmerged_df[['ld_actual_BA_22','estimated_ba_using_speedangle','luck','Counter']] #simplifying columns\n",
    "ld_luck_22_df = ld_luck_22_df.rename(columns= {'estimated_ba_using_speedangle': 'ld_xBA_22', 'luck': 'ld_luck_22', 'Counter': 'ld_count_22'}) #renaming\n",
    "print(ld_luck_22_df.head(5))"
   ]
  },
  {
   "cell_type": "code",
   "execution_count": null,
   "metadata": {},
   "outputs": [],
   "source": [
    "### MERGING BOTH YEARS OF LUCK DATA TO FIND HITTERS WHOSE LUCK HAS INCREASED THE MOST ON LINE DRIVES ###\n",
    "\n",
    "ld_luck_increase_df = ld_luck_23_df.merge(ld_luck_22_df, how= 'inner', on = 'player_name')\n",
    "ld_luck_increase_df['ld_luck_increase'] = ld_luck_increase_df['ld_luck_23'] - ld_luck_increase_df['ld_luck_22'] #creating luck increase column\n",
    "print(ld_luck_increase_df.nlargest(10,'ld_luck_increase'))"
   ]
  },
  {
   "attachments": {},
   "cell_type": "markdown",
   "metadata": {},
   "source": [
    "## 4. Combining ground ball and line drive luck scores to find greatest luck increasers\n",
    "* Finding top 10 hitters positively affected by the shift ban"
   ]
  },
  {
   "cell_type": "code",
   "execution_count": null,
   "metadata": {},
   "outputs": [],
   "source": [
    "### MERGING GROUND BALL AND LINE DRIVE LUCK TO FIND OVERALL GREATEST LUCK INCREASERS ###\n",
    "\n",
    "overall_luck_increase = gb_luck_increase_df.merge(ld_luck_increase_df, how= 'inner', on = 'player_name')\n",
    "#calculating total luck increase as a weighted average of two luck increases\n",
    "overall_luck_increase['total_luck_increase'] = ((((overall_luck_increase['gb_count_22'] + overall_luck_increase['gb_count_23']) / (overall_luck_increase['gb_count_22'] + overall_luck_increase['gb_count_23'] + overall_luck_increase['ld_count_22'] + overall_luck_increase['ld_count_23'])) * overall_luck_increase['gb_luck_increase']) \n",
    "                                                + (((overall_luck_increase['ld_count_22'] + overall_luck_increase['ld_count_23']) / (overall_luck_increase['gb_count_22'] + overall_luck_increase['gb_count_23'] + overall_luck_increase['ld_count_22'] + overall_luck_increase['ld_count_23'])) * overall_luck_increase['ld_luck_increase']))\n",
    "overall_luck_increase.round(3) #rounding\n",
    "print(overall_luck_increase[['total_luck_increase']].nlargest(10,'total_luck_increase'))\n",
    "print(overall_luck_increase.head(5))"
   ]
  },
  {
   "attachments": {},
   "cell_type": "markdown",
   "metadata": {},
   "source": [
    "## 5. Writing the resulting data frame to a CSV File\n",
    "* Includes original statistics to be queried"
   ]
  },
  {
   "cell_type": "code",
   "execution_count": 21,
   "metadata": {},
   "outputs": [],
   "source": [
    "from pathlib import Path\n",
    "filepath = Path(r\"C:\\Users\\theod\\OneDrive\\Desktop\\MLB Baseball Analytics 2023\\1 - Shift Effect\\Cleaned Data\\luck_increase.csv\")\n",
    "filepath.parent.mkdir(parents=True,exist_ok=True)\n",
    "overall_luck_increase.to_csv(filepath)"
   ]
  }
 ],
 "metadata": {
  "kernelspec": {
   "display_name": "Python 3",
   "language": "python",
   "name": "python3"
  },
  "language_info": {
   "codemirror_mode": {
    "name": "ipython",
    "version": 3
   },
   "file_extension": ".py",
   "mimetype": "text/x-python",
   "name": "python",
   "nbconvert_exporter": "python",
   "pygments_lexer": "ipython3",
   "version": "3.10.4"
  },
  "orig_nbformat": 4
 },
 "nbformat": 4,
 "nbformat_minor": 2
}
