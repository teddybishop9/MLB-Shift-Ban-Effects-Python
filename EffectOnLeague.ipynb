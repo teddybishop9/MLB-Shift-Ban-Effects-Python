{
 "cells": [
  {
   "attachments": {},
   "cell_type": "markdown",
   "metadata": {},
   "source": [
    "# Measuring the Effect of the Shift Ban on Luck League Wide #"
   ]
  },
  {
   "attachments": {},
   "cell_type": "markdown",
   "metadata": {},
   "source": [
    "## 1. Importing and setting up the data frames ##"
   ]
  },
  {
   "cell_type": "code",
   "execution_count": 1,
   "metadata": {},
   "outputs": [],
   "source": [
    "import pandas as pd\n",
    "\n",
    "df2023 = pd.read_csv(r'C:\\Users\\theod\\OneDrive\\Desktop\\MLB Baseball Analytics 2023\\1 - Shift Effect\\Cleaned Data\\2023_Play_Data_to05-30.csv')\n",
    "df2022 = pd.read_csv(r'C:\\Users\\theod\\OneDrive\\Desktop\\MLB Baseball Analytics 2023\\1 - Shift Effect\\Cleaned Data\\2022_Play_Data_to05-30.csv')\n",
    "\n",
    "#adding a counter column\n",
    "df2023['Counter'] = 1\n",
    "df2022['Counter'] = 1"
   ]
  },
  {
   "attachments": {},
   "cell_type": "markdown",
   "metadata": {},
   "source": [
    "## 2. Calculating Average Luck Values for the 2023 Season\n",
    "* seperated into ground balls, line drives, and fly balls\n",
    "* post shift ban, i.e. shift is not allowed"
   ]
  },
  {
   "cell_type": "code",
   "execution_count": 14,
   "metadata": {},
   "outputs": [
    {
     "name": "stdout",
     "output_type": "stream",
     "text": [
      "Actual BA: 0.244\n",
      "xBA: 0.236\n",
      "Luck: 0.008\n"
     ]
    }
   ],
   "source": [
    "### CALCULATING LUCK ON GROUNDBALLS FOR 2023 ###\n",
    "\n",
    "gb_success = df2023[['player_name','stand','events','estimated_ba_using_speedangle','bb_type','Counter']].query('bb_type == \"ground_ball\"')\n",
    "#expected batting average on groundballs\n",
    "xBA = gb_success['estimated_ba_using_speedangle'].mean()\n",
    "#actual batting average on groundballs\n",
    "BAactual = len(gb_success.query('events in [\"single\",\"double\",\"triple\"]')) / len(gb_success)\n",
    "#overall 'luck' on groundballs this year\n",
    "gb_luck = BAactual - xBA\n",
    "print('Actual BA: ' + str(round(BAactual,3)) + '\\nxBA: ' + str(round(xBA,3)) + '\\nLuck: ' + str(round(gb_luck,3)))"
   ]
  },
  {
   "cell_type": "code",
   "execution_count": 15,
   "metadata": {},
   "outputs": [
    {
     "name": "stdout",
     "output_type": "stream",
     "text": [
      "Actual BA: 0.641\n",
      "xBA: 0.636\n",
      "Luck: 0.006\n"
     ]
    }
   ],
   "source": [
    "### CALCULATING LUCK ON LINE DRIVES FOR 2023 ###\n",
    "\n",
    "ld_success = df2023[['player_name','stand','events','estimated_ba_using_speedangle','bb_type','Counter']].query('bb_type == \"line_drive\"')\n",
    "#expected batting average on line drives\n",
    "xBA = ld_success['estimated_ba_using_speedangle'].mean()\n",
    "#actual batting average on line drives\n",
    "BAactual = len(ld_success.query('events in [\"single\",\"double\",\"triple\",\"home_run\"]')) / len(ld_success)\n",
    "#overall 'luck' on line drives this year\n",
    "ld_luck = BAactual - xBA\n",
    "print('Actual BA: ' + str(round(BAactual,3)) + '\\nxBA: ' + str(round(xBA,3)) + '\\nLuck: ' + str(round(ld_luck,3)))"
   ]
  },
  {
   "cell_type": "code",
   "execution_count": 18,
   "metadata": {},
   "outputs": [
    {
     "name": "stdout",
     "output_type": "stream",
     "text": [
      "Actual BA: 0.259\n",
      "xBA: 0.275\n",
      "Luck: -0.016\n"
     ]
    }
   ],
   "source": [
    "### CALCULATING LUCK ON FLY BALLS FOR 2023 ###\n",
    "\n",
    "fb_success = df2023[['player_name','stand','events','estimated_ba_using_speedangle','bb_type','Counter']].query('bb_type == \"fly_ball\"')\n",
    "#expected batting average on fly balls\n",
    "xBA = fb_success['estimated_ba_using_speedangle'].mean()\n",
    "#actual batting average on fly balls\n",
    "BAactual = len(fb_success.query('events in [\"single\",\"double\",\"triple\",\"home_run\"]')) / len(fb_success)\n",
    "#overall 'luck' on fly balls this year\n",
    "fb_luck = BAactual - xBA\n",
    "print('Actual BA: ' + str(round(BAactual,3)) + '\\nxBA: ' + str(round(xBA,3)) + '\\nLuck: ' + str(round(fb_luck,3)))"
   ]
  },
  {
   "attachments": {},
   "cell_type": "markdown",
   "metadata": {},
   "source": [
    "## 3. Calculating Average Luck Values for the 2022 Season\n",
    "* seperated into ground balls, line drives, and fly balls\n",
    "* before shift ban, i.e. shift was allowed"
   ]
  },
  {
   "cell_type": "code",
   "execution_count": 17,
   "metadata": {},
   "outputs": [
    {
     "name": "stdout",
     "output_type": "stream",
     "text": [
      "Actual BA: 0.235\n",
      "xBA: 0.237\n",
      "Luck: -0.003\n"
     ]
    }
   ],
   "source": [
    "### CALCULATING LUCK ON GROUNDBALLS FOR 2022 ###\n",
    "\n",
    "gb_success = df2022[['player_name','stand','events','estimated_ba_using_speedangle','bb_type','Counter']].query('bb_type == \"ground_ball\"')\n",
    "#expected batting average on groundballs\n",
    "xBA = gb_success['estimated_ba_using_speedangle'].mean()\n",
    "#actual batting average on groundballs\n",
    "BAactual = len(gb_success.query('events in [\"single\",\"double\",\"triple\"]')) / len(gb_success)\n",
    "#overall 'luck' on groundballs this year\n",
    "gb_luck = BAactual - xBA\n",
    "print('Actual BA: ' + str(round(BAactual,3)) + '\\nxBA: ' + str(round(xBA,3)) + '\\nLuck: ' + str(round(gb_luck,3)))"
   ]
  },
  {
   "cell_type": "code",
   "execution_count": 16,
   "metadata": {},
   "outputs": [
    {
     "name": "stdout",
     "output_type": "stream",
     "text": [
      "Actual BA: 0.621\n",
      "xBA: 0.622\n",
      "Luck: -0.001\n"
     ]
    }
   ],
   "source": [
    "### CALCULATING LUCK ON LINE DRIVES FOR 2022 ###\n",
    "\n",
    "ld_success = df2022[['player_name','stand','events','estimated_ba_using_speedangle','bb_type','Counter']].query('bb_type == \"line_drive\"')\n",
    "#expected batting average on line drives\n",
    "xBA = ld_success['estimated_ba_using_speedangle'].mean()\n",
    "#actual batting average on line drives\n",
    "BAactual = len(ld_success.query('events in [\"single\",\"double\",\"triple\",\"home_run\"]')) / len(ld_success)\n",
    "#overall 'luck' on line drives this year\n",
    "ld_luck = BAactual - xBA\n",
    "print('Actual BA: ' + str(round(BAactual,3)) + '\\nxBA: ' + str(round(xBA,3)) + '\\nLuck: ' + str(round(ld_luck,3)))"
   ]
  },
  {
   "cell_type": "code",
   "execution_count": 19,
   "metadata": {},
   "outputs": [
    {
     "name": "stdout",
     "output_type": "stream",
     "text": [
      "Actual BA: 0.249\n",
      "xBA: 0.255\n",
      "Luck: -0.006\n"
     ]
    }
   ],
   "source": [
    "### CALCULATING LUCK ON FLY BALLS FOR 2022 ###\n",
    "\n",
    "fb_success = df2022[['player_name','stand','events','estimated_ba_using_speedangle','bb_type','Counter']].query('bb_type == \"fly_ball\"')\n",
    "#expected batting average on fly balls\n",
    "xBA = fb_success['estimated_ba_using_speedangle'].mean()\n",
    "#actual batting average on fly balls\n",
    "BAactual = len(fb_success.query('events in [\"single\",\"double\",\"triple\",\"home_run\"]')) / len(fb_success)\n",
    "#overall 'luck' on fly balls this year\n",
    "fb_luck = BAactual - xBA\n",
    "print('Actual BA: ' + str(round(BAactual,3)) + '\\nxBA: ' + str(round(xBA,3)) + '\\nLuck: ' + str(round(fb_luck,3)))"
   ]
  },
  {
   "attachments": {},
   "cell_type": "markdown",
   "metadata": {},
   "source": [
    "## 4. Calculating Average Luck Values for the 2022 Season with an Infield Shift On\n",
    "* seperated into ground balls and line drives\n",
    "* fly balls omitted due to lack of relevancy"
   ]
  },
  {
   "cell_type": "code",
   "execution_count": 20,
   "metadata": {},
   "outputs": [
    {
     "name": "stdout",
     "output_type": "stream",
     "text": [
      "Actual BA: 0.208\n",
      "xBA: 0.24\n",
      "Luck: -0.031\n"
     ]
    }
   ],
   "source": [
    "### CALCULATING LUCK ON GROUNDBALLS WITH AN INFIELD SHIFT FOR 2022 ###\n",
    "\n",
    "gb_success_w_shift = df2022[['player_name','stand','events','estimated_ba_using_speedangle','bb_type','if_fielding_alignment','Counter']].query('bb_type == \"ground_ball\"').query('if_fielding_alignment == \"Infield shift\"')\n",
    "#expected batting average on groundballs\n",
    "xBA = gb_success_w_shift['estimated_ba_using_speedangle'].mean()\n",
    "#actual batting average on groundballs\n",
    "BAactual = len(gb_success_w_shift.query('events in [\"single\",\"double\",\"triple\"]')) / len(gb_success_w_shift)\n",
    "#overall 'luck' on groundballs this year\n",
    "gb_luck = BAactual - xBA\n",
    "print('Actual BA: ' + str(round(BAactual,3)) + '\\nxBA: ' + str(round(xBA,3)) + '\\nLuck: ' + str(round(gb_luck,3)))"
   ]
  },
  {
   "cell_type": "code",
   "execution_count": 21,
   "metadata": {},
   "outputs": [
    {
     "name": "stdout",
     "output_type": "stream",
     "text": [
      "Actual BA: 0.617\n",
      "xBA: 0.627\n",
      "Luck: -0.011\n"
     ]
    }
   ],
   "source": [
    "### CALCULATING LUCK ON LINE DRIVES WITH AN INFIELD SHIFT FOR 2022 ###\n",
    "\n",
    "ld_success_w_shift = df2022[['player_name','stand','events','estimated_ba_using_speedangle','bb_type','if_fielding_alignment','Counter']].query('bb_type == \"line_drive\"').query('if_fielding_alignment == \"Infield shift\"')\n",
    "#expected batting average on line drives\n",
    "xBA = ld_success_w_shift['estimated_ba_using_speedangle'].mean()\n",
    "#actual batting average on line drives\n",
    "BAactual = len(ld_success_w_shift.query('events in [\"single\",\"double\",\"triple\"]')) / len(ld_success_w_shift)\n",
    "#overall 'luck' on line drives this year\n",
    "ld_luck = BAactual - xBA\n",
    "print('Actual BA: ' + str(round(BAactual,3)) + '\\nxBA: ' + str(round(xBA,3)) + '\\nLuck: ' + str(round(ld_luck,3)))"
   ]
  }
 ],
 "metadata": {
  "kernelspec": {
   "display_name": "Python 3",
   "language": "python",
   "name": "python3"
  },
  "language_info": {
   "codemirror_mode": {
    "name": "ipython",
    "version": 3
   },
   "file_extension": ".py",
   "mimetype": "text/x-python",
   "name": "python",
   "nbconvert_exporter": "python",
   "pygments_lexer": "ipython3",
   "version": "3.10.4"
  },
  "orig_nbformat": 4,
  "vscode": {
   "interpreter": {
    "hash": "7c2c9122a142a1e60f1c529a5a7d71b49c925ce4d520e2080c464255193101a7"
   }
  }
 },
 "nbformat": 4,
 "nbformat_minor": 2
}
